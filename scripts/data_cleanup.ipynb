{
 "cells": [
  {
   "cell_type": "code",
   "execution_count": null,
   "id": "c6bf319f-0a17-4b9d-b7f3-637d1da464a7",
   "metadata": {},
   "outputs": [],
   "source": [
    "import pandas as pd\n",
    "import numpy as np\n",
    "import matplotlib.pyplot as plt\n",
    "import requests as req\n",
    "apikey = open('apikey.txt', 'r').readline()"
   ]
  },
  {
   "cell_type": "code",
   "execution_count": 116,
   "id": "35c0e796-3dda-4031-ab42-d5b8d615022b",
   "metadata": {},
   "outputs": [],
   "source": [
    "def csv_to_dict(file_path = 'station_name_lat_lng.csv'):\n",
    "    df = pd.read_csv(file_path)\n",
    "    return df.set_index('station_name')[['lat', 'lng']].apply(tuple, axis=1).to_dict()\n",
    "\n",
    "def dict_to_csv(d = {}, file_path = 'station_name_lat_lng.csv'):\n",
    "    df = pd.DataFrame(columns=['station_name','lat','lng'])\n",
    "    for key, value in d.items():\n",
    "        df.loc[len(df.index)] = [key, value[0], value[1]]\n",
    "    df.to_csv(file_path, index=False)"
   ]
  },
  {
   "cell_type": "code",
   "execution_count": 69,
   "id": "ea7c896c-d81a-45b0-8bc1-8758c2f7b10f",
   "metadata": {},
   "outputs": [],
   "source": [
    "def parse_geocode(address_lat_lng, res):\n",
    "        body = res.json()\n",
    "        results = body['results']\n",
    "        location = results[0]['geometry']['location']\n",
    "        address_lat_lng['formatted_address'] = results[0]['formatted_address']\n",
    "        address_lat_lng['lat'] = float(location['lat'])\n",
    "        address_lat_lng['lng'] = float(location['lng'])\n",
    "\n",
    "def get_geocode_by_address(address, city = 'San Francisco', state = 'CA'):\n",
    "    address_lat_lng = {\n",
    "        'formatted_address': '',\n",
    "        'lat': None,\n",
    "        'lng': None\n",
    "    }\n",
    "    if len(address) > 0:\n",
    "        url = f'https://maps.googleapis.com/maps/api/geocode/json?address={address.replace(\" \", \"+\")},+{city.replace(\" \", \"+\")},+{state}&key={apikey}'\n",
    "        res = req.get(url)\n",
    "        parse_geocode(address_lat_lng, res)\n",
    "    return address_lat_lng\n",
    "\n",
    "def get_geocode_by_lat_lng(lat, lng):\n",
    "    address_lat_lng = {\n",
    "        'formatted_address': '',\n",
    "        'lat': None,\n",
    "        'lng': None\n",
    "    }\n",
    "    if (type(lat) == int or float) and (type(lng) == int or float):\n",
    "        url = f'https://maps.googleapis.com/maps/api/geocode/json?latlng={lat},{lng}&key={apikey}'\n",
    "        res = req.get(url)\n",
    "        parse_geocode(address_lat_lng, res)\n",
    "    return address_lat_lng"
   ]
  },
  {
   "cell_type": "code",
   "execution_count": 178,
   "id": "db29bc91-6145-4f52-bc73-55bec4a4536a",
   "metadata": {},
   "outputs": [],
   "source": [
    "def updater(name, d):\n",
    "    if not name in d:\n",
    "        address_lat_lng = get_geocode_by_address(name)\n",
    "        d[name] = (address_lat_lng['lat'], address_lat_lng['lng'])\n",
    "    \n",
    "def sanitize_tripdata_csv(file_path, dict_path):\n",
    "    df = pd.read_csv(file_path, usecols=['started_at', 'ended_at', 'start_station_name', 'end_station_name', 'start_lat', 'start_lng', 'end_lat', 'end_lng'], nrows=10)\n",
    "    df['started_at'] = pd.to_datetime(df['started_at'], format='%Y-%m-%d %H:%M:%S.%f').apply(lambda x: x.replace(microsecond=0))\n",
    "    df['ended_at'] = pd.to_datetime(df['ended_at'], format='%Y-%m-%d %H:%M:%S.%f').apply(lambda x: x.replace(microsecond=0))\n",
    "    df.dropna(inplace=True)\n",
    "    df.sort_values(by = ['started_at', 'ended_at'], ignore_index=True, inplace=True)\n",
    "    d = csv_to_dict(dict_path)\n",
    "    for index, row in df.iterrows():\n",
    "        start_station_name = row['start_station_name']\n",
    "        updater(start_station_name, d)\n",
    "        df.loc[index, 'start_lat'] = d[start_station_name][0]\n",
    "        df.loc[index, 'start_lng'] = d[start_station_name][1]\n",
    "        end_station_name = row['end_station_name']\n",
    "        updater(end_station_name, d)\n",
    "        df.loc[index, 'end_lat'] = d[end_station_name][0]\n",
    "        df.loc[index, 'end_lng'] = d[end_station_name][1]\n",
    "    df.drop(['start_station_name', 'end_station_name'], axis=1, inplace=True)\n",
    "    dict_to_csv(d, dict_path)\n",
    "    df.to_csv(f'{file_path}-sanitized.csv', index=False)\n",
    "    \n",
    "def sanitize_crimedata_csv(file_path, dict_path):\n",
    "    df = pd.read_csv(file_path, usecols=['incident_date', 'incident_datetime', 'analysis_neighborhood', 'incident_category'], nrows=10)\n",
    "    df.dropna(inplace=True)\n",
    "    df.rename(columns={'incident_category': 'category'}, inplace=True)\n",
    "    df['started_at'] = pd.to_datetime(df['incident_date'], format='%Y-%m-%d %H:%M:%S').dt.strftime('%Y-%m-%d') + ' ' + pd.to_datetime(df['incident_datetime'], format='%Y-%m-%d %H:%M:%S').dt.strftime('%H:%M:%S')\n",
    "    df['started_at'] = pd.to_datetime(df['started_at'], format='%Y-%m-%d %H:%M:%S')\n",
    "    df.insert(0, 'start_lng', 0)\n",
    "    df.insert(0, 'start_lat', 0)\n",
    "    df.sort_values(by='started_at', ignore_index=True, inplace=True)\n",
    "    d = csv_to_dict(dict_path)\n",
    "    for index, row in df.iterrows():\n",
    "        analysis_neighborhood = row['analysis_neighborhood']\n",
    "        updater(analysis_neighborhood, d)\n",
    "        df.loc[index, 'start_lat'] = d[analysis_neighborhood][0]\n",
    "        df.loc[index, 'start_lng'] = d[analysis_neighborhood][1]\n",
    "    df.drop(['incident_date', 'incident_datetime', 'analysis_neighborhood'], axis=1, inplace=True)\n",
    "    df.insert(0, 'started_at', df.pop('started_at'))\n",
    "    dict_to_csv(d, dict_path)\n",
    "    df.to_csv(f'{file_path}-sanitized.csv', index=False)"
   ]
  },
  {
   "cell_type": "code",
   "execution_count": 179,
   "id": "4b5f6da1-c53c-44b3-9bf1-c9ea6148a64e",
   "metadata": {},
   "outputs": [],
   "source": [
    "file_path = 'tripdata/202406-baywheels-tripdata.csv'\n",
    "dict_path = 'station_name_lat_lng.csv'\n",
    "sanitize_tripdata_csv(file_path, dict_path)"
   ]
  },
  {
   "cell_type": "code",
   "execution_count": 177,
   "id": "d5f0d86b-3378-4341-b21f-4d5ff41b1a06",
   "metadata": {},
   "outputs": [],
   "source": [
    "file_path = 'crimedata/sf-crimedata-2024-06-01-2024-06-30.csv'\n",
    "dict_path = 'station_name_lat_lng.csv'\n",
    "sanitize_crimedata_csv(file_path, dict_path)"
   ]
  },
  {
   "cell_type": "code",
   "execution_count": null,
   "id": "57e60518-7f2f-43e2-949b-09a53cbb3d91",
   "metadata": {},
   "outputs": [],
   "source": []
  }
 ],
 "metadata": {
  "kernelspec": {
   "display_name": "Python 3 (ipykernel)",
   "language": "python",
   "name": "python3"
  },
  "language_info": {
   "codemirror_mode": {
    "name": "ipython",
    "version": 3
   },
   "file_extension": ".py",
   "mimetype": "text/x-python",
   "name": "python",
   "nbconvert_exporter": "python",
   "pygments_lexer": "ipython3",
   "version": "3.10.8"
  }
 },
 "nbformat": 4,
 "nbformat_minor": 5
}
